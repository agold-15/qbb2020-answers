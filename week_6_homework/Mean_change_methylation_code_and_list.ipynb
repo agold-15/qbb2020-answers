{
 "cells": [
  {
   "cell_type": "markdown",
   "metadata": {},
   "source": [
    "# import packages "
   ]
  },
  {
   "cell_type": "code",
   "execution_count": 1,
   "metadata": {},
   "outputs": [],
   "source": [
    "import gzip\n",
    "import numpy as np  \n",
    "import pandas as pd\n",
    "import sys"
   ]
  },
  {
   "cell_type": "markdown",
   "metadata": {},
   "source": [
    "# open files "
   ]
  },
  {
   "cell_type": "code",
   "execution_count": 2,
   "metadata": {},
   "outputs": [],
   "source": [
    "E4_0_methylation=gzip.open('/Users/cmdb/qbb2020-answers/week_6_homework/E4.0_1.chr6_bismark_bt2_pe.bedGraph.gz')\n",
    "E5_5_methylation=gzip.open('/Users/cmdb/qbb2020-answers/week_6_homework/E5.5_1.chr6_bismark_bt2_pe.bedGraph.gz')\n",
    "gene_coords=open('/Users/cmdb/Downloads/mm10_refseq_genes_chr6_50M_60M.bed')"
   ]
  },
  {
   "cell_type": "markdown",
   "metadata": {},
   "source": [
    "# create list of list for methylations "
   ]
  },
  {
   "cell_type": "code",
   "execution_count": 3,
   "metadata": {},
   "outputs": [],
   "source": [
    "E_4_methylations=[]\n",
    "E_5_methylations=[]\n",
    "\n",
    "for line in E4_0_methylation:\n",
    "    split=str(line).strip().split()\n",
    "    for i in split: \n",
    "        replaced=i.replace('t','')\n",
    "        split01=replaced.split('\\\\')\n",
    "        if \"bedGraph\" in i: \n",
    "            pass\n",
    "        elif \"rack\" in i: \n",
    "            pass\n",
    "        else: \n",
    "            E_4_methylations.append(split01)\n",
    "    \n",
    "for line2 in E5_5_methylation:\n",
    "    split2=str(line2).strip().split()\n",
    "    for i in split2: \n",
    "        replaced=i.replace('t','')\n",
    "        split02=replaced.split('\\\\')\n",
    "        if \"bedGraph\" in i: \n",
    "            pass\n",
    "        elif \"rack\" in i: \n",
    "            pass\n",
    "        else: \n",
    "            E_5_methylations.append(split02)"
   ]
  },
  {
   "cell_type": "markdown",
   "metadata": {},
   "source": [
    "# make dictionary of coordinates and gene name \n"
   ]
  },
  {
   "cell_type": "code",
   "execution_count": 4,
   "metadata": {},
   "outputs": [
    {
     "name": "stdout",
     "output_type": "stream",
     "text": [
      "{'Mpp6': (50110240, 50198598), 'Dfna5': (50207402, 50261769), 'Osbpl3': (50293326, 50456170), 'Cycs': (50562562, 50566474), '5430402O13Rik': (50566642, 50594865), 'Mir6371': (50572397, 50572508), '4921507P07Rik': (50573303, 50596590), 'Npvf': (50650870, 50654393), 'C530044C16Rik': (50776114, 50814894), 'Mir148a': (51269811, 51269910), 'Gm6559': (51379709, 51392791), 'Nfe2l3': (51432669, 51458768), 'Hnrnpa2b1': (51460434, 51469894), 'Cbx3': (51470615, 51483704), 'Snx10': (51544522, 51590670), 'Skap2': (51859164, 52012549), 'Halr1': (52102948, 52113684), 'Hoxa1': (52155366, 52158317), 'Hotairm1': (52158523, 52162020), 'Hoxa2': (52162416, 52164831), 'Hoxaas2': (52165673, 52169451), 'Hoxa3': (52169061, 52213067), 'Hoxa4': (52189686, 52191703), 'Hoxaas3': (52201123, 52213597), 'Hoxa5': (52201753, 52204587), 'Hoxa6': (52206364, 52208624), 'Mira': (52214491, 52215288), 'Hoxa7': (52215623, 52218573), 'Hoxa9': (52223096, 52227370), 'Mir196b': (52230080, 52230165), 'Hoxa10': (52231196, 52234939), 'Hoxa11': (52242104, 52245810), 'Hoxa11os': (52245242, 52249769), 'Hoxa13': (52258852, 52260880), 'Hottip': (52262774, 52267603), 'Evx1os': (52308388, 52314832), 'Evx1': (52313497, 52318378), '1700094M24Rik': (52492450, 52500085), 'Hibadh': (52546229, 52640300), 'Tax1bp1': (52713728, 52766779), 'Jazf1': (52768067, 53068624), 'Gm4872': (53221801, 53226599), '9430076C15Rik': (53287294, 53397216), 'Creb5': (53573373, 53695832), 'Tril': (53815467, 53820825), 'Cpvl': (53873278, 53978673), '4921529L05Rik': (53978690, 54017383), 'Chn2': (54272821, 54301812), '9130019P16Rik': (54269680, 54430221), 'Prr15': (54327011, 54330200), 'Wipf3': (54452882, 54503768), 'Scrn1': (54508815, 54566382), 'Fkbp14': (54577604, 54593128), 'Plekha8': (54603146, 54645822), 'Mturn': (54681623, 54703855), 'Znrf2': (54816915, 54890224), 'Nod1': (54923941, 54971661), 'Ggct': (54985094, 54992867), 'Gars': (55038000, 55079504), 'Crhr2': (55090048, 55133016), 'Inmt': (55170626, 55174990), 'Fam188b': (55203382, 55320222), 'Aqp1': (55336298, 55348555), 'Ghrhr': (55376294, 55388530), '6430584L05Rik': (55396886, 55412285), 'Adcyap1r1': (55451977, 55501455), 'Neurod6': (55677818, 55681263), 'Gm3279': (55684570, 55694574), 'Ccdc129': (55837017, 55978598), 'Ppp1r17': (56017514, 56032688), 'Pde1c': (56100439, 56362392), 'Lsm5': (56701062, 56704699), 'Avl9': (56714904, 56761911), 'Kbtbd2': (56777524, 56797813), 'Fkbp9': (56832058, 56879360), 'Nt5c3': (56882401, 56901886), 'Vmn1r4': (56956512, 56957406), 'Vmn1r5': (56985341, 56986289), 'Vmn1r6': (57002354, 57003266), 'Vmn1r7': (57024337, 57025273), 'Vmn1r8': (57035912, 57037125), 'Vmn1r9': (57070894, 57071945), 'Vmn1r10': (57113424, 57114360), 'Vmn1r11': (57137352, 57138252), 'Vmn1r12': (57158919, 57159843), 'Vmn1r13': (57209857, 57210760), 'Vmn1r14': (57233438, 57234350), 'Vmn1r15': (57258148, 57259048), 'Vmn1r16': (57322723, 57323635), 'Vmn1r17': (57360466, 57361378), 'Vmn1r18': (57389667, 57390567), 'Vmn1r19': (57404463, 57405390), 'Vmn1r20': (57431690, 57432602), 'Ppm1k': (57506501, 57535426), 'Herc6': (57580991, 57665136), 'Pyurf': (57684738, 57692078), 'Lancl2': (57702454, 57739449), 'Vopp1': (57752263, 57825125), 'Vmn1r21': (57843563, 57844457), 'Vmn1r22': (57900081, 57900990), 'Vmn1r23': (57925882, 57926791), 'Vmn1r24': (57955640, 57956531), 'Vmn1r25': (57978393, 57979302), 'Vmn1r26': (58008182, 58009202), 'Vmn1r27': (58215105, 58216017), 'Vmn1r28': (58265173, 58266082), 'Vmn1r29': (58307296, 58308208), 'Vmn1r30': (58434936, 58435845), 'Vmn1r31': (58471966, 58472878), 'Abcg2': (58596671, 58692451), 'Herc3': (58833699, 58920396), 'Nap1l5': (58905232, 58907126), 'Fam13a': (58933535, 59024502), 'Tigd2': (59208869, 59212033), 'Gprin3': (59352460, 59426290)}\n"
     ]
    }
   ],
   "source": [
    "gene_cords_keys=[]\n",
    "gene_cords_value1=[]\n",
    "gene_cords_value2=[]\n",
    "zipped=[]\n",
    "\n",
    "for i in gene_coords: \n",
    "    split3=i.split('\\t')\n",
    "    gene_cords_keys.append(split3[12])\n",
    "    gene_cords_value1.append(int(split3[4])) \n",
    "    gene_cords_value2.append(int(split3[5])) \n",
    "    zipped= list(zip(gene_cords_value1, gene_cords_value2))\n",
    "    coords_dictionary= dict(zip(gene_cords_keys, zipped))\n",
    "                             \n",
    "print(coords_dictionary)"
   ]
  },
  {
   "cell_type": "code",
   "execution_count": 5,
   "metadata": {},
   "outputs": [],
   "source": [
    "E4_percent=[]\n",
    "E4_key=[]\n",
    "\n",
    "counter=0\n",
    "for line in E_4_methylations:\n",
    "    for key, value in coords_dictionary.items():\n",
    "        if int(line[1]) > value[0]:\n",
    "            if int(line[1]) < value[1]:\n",
    "                E4_percent.append(float(line[3]))\n",
    "                E4_key.append(key)\n",
    "                counter += 1\n",
    "                if counter > 1: \n",
    "                    break\n",
    "E5_percent=[]\n",
    "E5_key=[]\n",
    "\n",
    "counter2=0\n",
    "for line in E_5_methylations:\n",
    "    for key, value in coords_dictionary.items():\n",
    "        if int(line[1]) > value[0]:\n",
    "            if int(line[1]) < value[1]:\n",
    "                E5_percent.append(float(line[3]))\n",
    "                E5_key.append(key)\n",
    "                counter2 += 1\n",
    "                if counter2 > 1: \n",
    "                    break \n",
    "            "
   ]
  },
  {
   "cell_type": "code",
   "execution_count": 6,
   "metadata": {},
   "outputs": [
    {
     "name": "stdout",
     "output_type": "stream",
     "text": [
      "['Mpp6', '5430402O13Rik', 'C530044C16Rik', 'Mir148a', 'Hottip', 'Tax1bp1', 'Gm4872', 'Plekha8', 'Avl9', 'Fkbp9', 'Vmn1r4', 'Vmn1r5', 'Vmn1r7', 'Vmn1r11', 'Vmn1r13', 'Vmn1r14', 'Herc6', 'Vmn1r27', 'Vmn1r29', 'Herc3', 'Tigd2']\n"
     ]
    }
   ],
   "source": [
    "E4_dict=dict(zip(E4_key, E4_percent))\n",
    "E5_dict=dict(zip(E5_key, E5_percent))\n",
    "\n",
    "fold_Change_list_keys=[]\n",
    "fold_Change_list_values=[]\n",
    "\n",
    "for key, value in E4_dict.items():\n",
    "    if value == 0: \n",
    "        pass \n",
    "    else: \n",
    "        for key2, value2 in E5_dict.items():\n",
    "            if key == key2: \n",
    "                FC= (value2/value)-1\n",
    "                fold_Change_list_keys.append(key)\n",
    "                fold_Change_list_values.append(FC)\n",
    "print(fold_Change_list_keys)"
   ]
  },
  {
   "cell_type": "code",
   "execution_count": 7,
   "metadata": {},
   "outputs": [
    {
     "data": {
      "text/plain": [
       "[('Mpp6', 1.3333333333333313),\n",
       " ('5430402O13Rik', 2.000000000000003),\n",
       " ('C530044C16Rik', 0.0),\n",
       " ('Mir148a', -1.0),\n",
       " ('Hottip', 1.0),\n",
       " ('Tax1bp1', 0.0),\n",
       " ('Gm4872', -1.0),\n",
       " ('Plekha8', 0.0),\n",
       " ('Avl9', 0.49999999999999933),\n",
       " ('Fkbp9', 0.0),\n",
       " ('Vmn1r4', 0.49999999999999933),\n",
       " ('Vmn1r5', -0.5),\n",
       " ('Vmn1r7', 0.28571428571428825),\n",
       " ('Vmn1r11', 1.0),\n",
       " ('Vmn1r13', 0.0),\n",
       " ('Vmn1r14', -0.5),\n",
       " ('Herc6', -1.0),\n",
       " ('Vmn1r27', 0.49999999999999933),\n",
       " ('Vmn1r29', 0.0),\n",
       " ('Herc3', 0.0),\n",
       " ('Tigd2', 0.0)]"
      ]
     },
     "execution_count": 7,
     "metadata": {},
     "output_type": "execute_result"
    }
   ],
   "source": [
    "zipped=zip(fold_Change_list_keys, fold_Change_list_values)\n",
    "\n",
    "list(zipped)\n",
    "\n"
   ]
  },
  {
   "cell_type": "code",
   "execution_count": null,
   "metadata": {},
   "outputs": [],
   "source": []
  }
 ],
 "metadata": {
  "kernelspec": {
   "display_name": "Python 3",
   "language": "python",
   "name": "python3"
  },
  "language_info": {
   "codemirror_mode": {
    "name": "ipython",
    "version": 3
   },
   "file_extension": ".py",
   "mimetype": "text/x-python",
   "name": "python",
   "nbconvert_exporter": "python",
   "pygments_lexer": "ipython3",
   "version": "3.6.10"
  }
 },
 "nbformat": 4,
 "nbformat_minor": 4
}
