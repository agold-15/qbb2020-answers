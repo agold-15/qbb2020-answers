{
 "cells": [
  {
   "cell_type": "markdown",
   "metadata": {},
   "source": [
    "# parse .gft file "
   ]
  },
  {
   "cell_type": "code",
   "execution_count": 1,
   "metadata": {},
   "outputs": [],
   "source": [
    "#parse based on chromosome\n",
    "#parse based on gene \n",
    "#parse based on biotype\n",
    "\n",
    "inputfile= open(\"/Users/cmdb/qbb2020-answers/day4-lunch/BDGP6.Ensembl.81.gtf\", 'r')\n",
    "\n",
    "#target_chromosome= \"3R\"\n",
    "#target_feature= \"gene\"\n",
    "#target_biotype= \"protein_coding\"\n",
    "outputfile= open(\"parsed_BDGP6.Ensembl.81.gtf\", 'w')\n",
    "\n",
    "#read one line of file as a long string \n",
    "for line in inputfile:\n",
    "    #strip and split the long string into a list\n",
    "    fields= line.rstrip('\\n\\r').split('\\t')\n",
    "    #chromosome is the first index in the list \n",
    "    chromosome = fields[0]\n",
    "    if chromosome == \"3R\":\n",
    "        feature=fields[2]\n",
    "        if feature == \"gene\":\n",
    "            attributes= fields [-1]\n",
    "            if \"protein_coding\" in attributes:\n",
    "                outputfile.write(line)\n",
    "                \n",
    "inputfile.close() \n",
    "outputfile.close()\n"
   ]
  },
  {
   "cell_type": "code",
   "execution_count": 6,
   "metadata": {},
   "outputs": [],
   "source": [
    "#get number of lines from parsed file \n",
    "lines=0\n",
    "with open(\"/Users/cmdb/qbb2020-answers/day4-lunch/parsed_BDGP6.Ensembl.81.gtf\")as newfile:\n",
    "    for i,line in enumerate(newfile):\n",
    "        pass\n",
    "    lines=i+1"
   ]
  },
  {
   "cell_type": "markdown",
   "metadata": {},
   "source": [
    "# implement binary search "
   ]
  },
  {
   "cell_type": "code",
   "execution_count": null,
   "metadata": {},
   "outputs": [],
   "source": [
    "with open(\"/Users/cmdb/qbb2020-answers/day4-lunch/parsed_BDGP6.Ensembl.81.gtf\", 'r') as newfile:\n",
    "\n",
    "lines= newfile.readlines()\n",
    "\n",
    "target_position= 21378950\n",
    "\n",
    "low=0 \n",
    "high= lines-1\n",
    "mid= lines/2\n",
    "old_mid=-1\n",
    "\n",
    "binary_counter=0\n",
    "targetGene=''\n",
    "\n",
    "with open\n",
    "while old_mid != mid:\n",
    "    currentline=lines[mid]\n",
    "    print(currentline)\n",
    "    fields= currentline.rstrip('\\n\\r').split('\\t')\n",
    "    start_basepair= int(fields[3])\n",
    "    end_basepair= int(fields[4])\n",
    "    \n",
    "    if target_position < start_basepair and target_position\n",
    "        high=mid\n",
    "        old_mid=mid\n",
    "        mid=int(old_mid/2)\n",
    "        \n",
    "    elif target_position > end_basepair:\n",
    "        low=mid \n",
    "        old_mid= mid\n",
    "        mid= int((old_mid+high)/2)\n",
    "        \n",
    "    else:\n",
    "        print(\"Converged\")\n",
    "        old_mid=mid \n",
    "        target_gene= currentline\n",
    "        \n",
    "        \n",
    "            return mid\n",
    "        elif target < fs[mid]:\n",
    "            high =  mid - 1\n",
    "        else:\n",
    "            low = mid + 1\n",
    "    return -1\n",
    "list= \n",
    "target\n",
    "answer= binarysearch(target,list)"
   ]
  }
 ],
 "metadata": {
  "kernelspec": {
   "display_name": "Python 3",
   "language": "python",
   "name": "python3"
  },
  "language_info": {
   "codemirror_mode": {
    "name": "ipython",
    "version": 3
   },
   "file_extension": ".py",
   "mimetype": "text/x-python",
   "name": "python",
   "nbconvert_exporter": "python",
   "pygments_lexer": "ipython3",
   "version": "3.6.10"
  }
 },
 "nbformat": 4,
 "nbformat_minor": 4
}
