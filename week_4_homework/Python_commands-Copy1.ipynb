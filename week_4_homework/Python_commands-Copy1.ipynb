{
 "cells": [
  {
   "cell_type": "markdown",
   "metadata": {},
   "source": [
    "# define FASTAReader function "
   ]
  },
  {
   "cell_type": "code",
   "execution_count": 1,
   "metadata": {},
   "outputs": [],
   "source": [
    "def FASTAReader(file):\n",
    "    line = file.readline()\n",
    "    assert line.startswith('>'), \"Not a FASTA file\"\n",
    "    seq_id = line[1:].rstrip('\\r\\n')\n",
    "    sequence = []\n",
    "    line = file.readline()\n",
    "    sequences = []\n",
    "    while line:\n",
    "        if line.startswith('>'):\n",
    "            sequences.append((seq_id, ''.join(sequence)))\n",
    "            seq_id = line[1:].rstrip('\\r\\n')\n",
    "            sequence = []\n",
    "        else:\n",
    "            sequence.append(line.strip())\n",
    "        \n",
    "        line = file.readline()\n",
    "    sequences.append((seq_id, ''.join(sequence)))\n",
    "    return sequences"
   ]
  },
  {
   "cell_type": "markdown",
   "metadata": {},
   "source": [
    "# open files "
   ]
  },
  {
   "cell_type": "code",
   "execution_count": 2,
   "metadata": {},
   "outputs": [],
   "source": [
    "#open files with FASTAReader\n",
    "AA_seq= FASTAReader(open('mafft_aligned'))\n",
    "nuc_seq= FASTAReader(open('seqdump (1).txt'))\n",
    "query_seq= FASTAReader(open('week4_query.fa'))"
   ]
  },
  {
   "cell_type": "markdown",
   "metadata": {},
   "source": [
    "# make dictionary"
   ]
  },
  {
   "cell_type": "code",
   "execution_count": 3,
   "metadata": {},
   "outputs": [],
   "source": [
    "#make dictionary\n",
    "dict={}\n",
    "#create a loop to add nucleotides and AA's to the dictionary with the header (seqID) as the key\n",
    "for seq_id, sequence in nuc_seq:\n",
    "    key1=seq_id.split()\n",
    "    key2=key1[0]\n",
    "    dict[key2]=[sequence]\n",
    "for seq_id, sequence in AA_seq:\n",
    "    key3=seq_id.split()\n",
    "    key4=key3[0]\n",
    "    key5=key4[:-2]\n",
    "    dict[key5].append(sequence)"
   ]
  },
  {
   "cell_type": "markdown",
   "metadata": {},
   "source": [
    "# add gaps to nucleotides "
   ]
  },
  {
   "cell_type": "code",
   "execution_count": 4,
   "metadata": {
    "scrolled": true
   },
   "outputs": [],
   "source": [
    "#define variables in order to add new values to the dictionary \n",
    "newDNA_list=[]\n",
    "counter=0\n",
    "for key, value in dict.items():\n",
    "    counter += 1\n",
    "    old_DNA= value[0]\n",
    "    amino_acids= value[1]\n",
    "    new_DNA= \"\"\n",
    "#look into the amino acids\n",
    "    #if the character is a space, add three spaces to the new DNA column \n",
    "    #if the character is not a space, slice the string and add three nucleotides to the column in dictionary \n",
    "    for j, k in enumerate(amino_acids):\n",
    "        if k == \"-\":\n",
    "            new_DNA += \"---\"\n",
    "        else:\n",
    "            new_DNA += old_DNA[j:(j+3)]\n",
    "    value.append(new_DNA)\n",
    "    newDNA_list.append(new_DNA)\n",
    "    #if counter >1:\n",
    "        #break\n",
    "    \n",
    "counter2=0\n",
    "for key, value in dict.items():\n",
    "    counter2 += 1\n",
    "    #print(key, value)\n",
    "    \n",
    "    if counter2 > 1: \n",
    "        break "
   ]
  },
  {
   "cell_type": "markdown",
   "metadata": {},
   "source": [
    "# split query into codons "
   ]
  },
  {
   "cell_type": "code",
   "execution_count": 5,
   "metadata": {},
   "outputs": [],
   "source": [
    "query_codons=[]\n",
    "query_list=[]\n",
    "for seq_id, sequence in query_seq:\n",
    "    key1=seq_id.split()\n",
    "    key2=key1[0]\n",
    "    query_list.append(sequence)\n",
    "\n",
    "string= query_list[0]\n",
    "n = 3\n",
    "query_codons = [(string[i:i+n]) for i in range(0, len(string), 3)] \n",
    "#print(query_codons)"
   ]
  },
  {
   "cell_type": "markdown",
   "metadata": {},
   "source": [
    "# split BLAST sequences into codons"
   ]
  },
  {
   "cell_type": "code",
   "execution_count": 10,
   "metadata": {},
   "outputs": [
    {
     "name": "stderr",
     "output_type": "stream",
     "text": [
      "IOPub data rate exceeded.\n",
      "The notebook server will temporarily stop sending output\n",
      "to the client in order to avoid crashing it.\n",
      "To change this limit, set the config variable\n",
      "`--NotebookApp.iopub_data_rate_limit`.\n",
      "\n",
      "Current values:\n",
      "NotebookApp.iopub_data_rate_limit=1000000.0 (bytes/sec)\n",
      "NotebookApp.rate_limit_window=3.0 (secs)\n",
      "\n"
     ]
    }
   ],
   "source": [
    "blast_codons=[]\n",
    "for character in newDNA_list:\n",
    "    string=character\n",
    "    n = 3\n",
    "    codons= [(string[i:i+n]) for i in range(0, len(string), 3)]\n",
    "    blast_codons.append(codons)"
   ]
  },
  {
   "cell_type": "markdown",
   "metadata": {},
   "source": [
    "# get number of  synonymous and non-synonymous mutations "
   ]
  },
  {
   "cell_type": "code",
   "execution_count": 7,
   "metadata": {},
   "outputs": [],
   "source": [
    "codontable = { \n",
    "    'ATA':'I', 'ATC':'I', 'ATT':'I', 'ATG':'M', \n",
    "    'ACA':'T', 'ACC':'T', 'ACG':'T', 'ACT':'T', \n",
    "    'AAC':'N', 'AAT':'N', 'AAA':'K', 'AAG':'K', \n",
    "    'AGC':'S', 'AGT':'S', 'AGA':'R', 'AGG':'R',                  \n",
    "    'CTA':'L', 'CTC':'L', 'CTG':'L', 'CTT':'L', \n",
    "    'CCA':'P', 'CCC':'P', 'CCG':'P', 'CCT':'P', \n",
    "    'CAC':'H', 'CAT':'H', 'CAA':'Q', 'CAG':'Q', \n",
    "    'CGA':'R', 'CGC':'R', 'CGG':'R', 'CGT':'R', \n",
    "    'GTA':'V', 'GTC':'V', 'GTG':'V', 'GTT':'V', \n",
    "    'GCA':'A', 'GCC':'A', 'GCG':'A', 'GCT':'A', \n",
    "    'GAC':'D', 'GAT':'D', 'GAA':'E', 'GAG':'E', \n",
    "    'GGA':'G', 'GGC':'G', 'GGG':'G', 'GGT':'G', \n",
    "    'TCA':'S', 'TCC':'S', 'TCG':'S', 'TCT':'S', \n",
    "    'TTC':'F', 'TTT':'F', 'TTA':'L', 'TTG':'L', \n",
    "    'TAC':'Y', 'TAT':'Y', 'TAA':'_', 'TAG':'_', \n",
    "    'TGC':'C', 'TGT':'C', 'TGA':'_', 'TGG':'W', \n",
    "} "
   ]
  },
  {
   "cell_type": "code",
   "execution_count": 30,
   "metadata": {},
   "outputs": [
    {
     "name": "stdout",
     "output_type": "stream",
     "text": [
      "6008\n",
      "6008\n"
     ]
    }
   ],
   "source": [
    "def get_val(codon): \n",
    "    \n",
    "    for key, value in codontable.items(): \n",
    "            if codon == key: \n",
    "                return value \n",
    "    return \"key not in dictionary\"\n"
   ]
  },
  {
   "cell_type": "code",
   "execution_count": 153,
   "metadata": {
    "scrolled": true
   },
   "outputs": [],
   "source": [
    "synonymous_counter=0\n",
    "nonsynonymous_counter=0\n",
    "ds_dN={}\n",
    "values=[]\n",
    "\n",
    "for i in blast_codons:\n",
    "    for b in i:\n",
    "        for a in blast_codons[0]:\n",
    "            if b == \"---\" or a == \"---\":\n",
    "                pass \n",
    "            if a == b: \n",
    "                pass \n",
    "            else:\n",
    "                ds_dN.setdefault(a, [])\n",
    "                \n",
    "                a_value=get_val(a)\n",
    "                b_value=get_val(b)\n",
    "\n",
    "                if a_value == b_value:\n",
    "                    \n",
    "                    synonymous_counter += 1\n",
    "                    ds_dN[a].append(\"SYN\")\n",
    "                    if synonymous_counter > 6008: \n",
    "                        break \n",
    "                \n",
    "                else:\n",
    "                    nonsynonymous_counter += 1\n",
    "                    ds_dN[a].append(\"NON\")\n",
    "                    if nonsynonymous_counter > 6008: \n",
    "                        break \n",
    "                        "
   ]
  },
  {
   "cell_type": "code",
   "execution_count": 165,
   "metadata": {},
   "outputs": [
    {
     "name": "stdout",
     "output_type": "stream",
     "text": [
      "FALSE\n"
     ]
    }
   ],
   "source": [
    "if \"SYN\" in ds_dN.values():\n",
    "    print(\"TRUE\")\n",
    "else: \n",
    "    print(\"FALSE\")"
   ]
  },
  {
   "cell_type": "code",
   "execution_count": 166,
   "metadata": {
    "scrolled": true
   },
   "outputs": [
    {
     "name": "stdout",
     "output_type": "stream",
     "text": [
      "7445\n",
      "0.0012382392221629021\n"
     ]
    }
   ],
   "source": [
    "print(synonymous_counter)\n",
    "dNdS= synonymous_counter/nonsynonymous_counter\n",
    "print(dNdS)"
   ]
  },
  {
   "cell_type": "code",
   "execution_count": null,
   "metadata": {},
   "outputs": [],
   "source": [
    "import pandas as pd\n",
    "from scipy.stats import stats \n"
   ]
  },
  {
   "cell_type": "code",
   "execution_count": null,
   "metadata": {},
   "outputs": [],
   "source": []
  },
  {
   "cell_type": "code",
   "execution_count": null,
   "metadata": {},
   "outputs": [],
   "source": []
  }
 ],
 "metadata": {
  "kernelspec": {
   "display_name": "Python 3",
   "language": "python",
   "name": "python3"
  },
  "language_info": {
   "codemirror_mode": {
    "name": "ipython",
    "version": 3
   },
   "file_extension": ".py",
   "mimetype": "text/x-python",
   "name": "python",
   "nbconvert_exporter": "python",
   "pygments_lexer": "ipython3",
   "version": "3.6.10"
  }
 },
 "nbformat": 4,
 "nbformat_minor": 4
}
