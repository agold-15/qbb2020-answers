{
 "cells": [
  {
   "cell_type": "code",
   "execution_count": 1,
   "metadata": {},
   "outputs": [],
   "source": [
    "fs = open(\"/Users/cmdb/qbb2020-answers/day4-lunch/BDGP6.Ensembl.81.gtf\")"
   ]
  },
  {
   "cell_type": "code",
   "execution_count": 2,
   "metadata": {},
   "outputs": [
    {
     "name": "stdout",
     "output_type": "stream",
     "text": [
      "3R\tFlyBase\tgene\t722370\t722621\t.\t-\t.\tgene_id \"FBgn0085804\"; gene_version \"1\"; gene_name \"CR41571\"; gene_source \"FlyBase\"; gene_biotype \"pseudogene\";\n",
      "\n",
      "3R\tFlyBase\ttranscript\t722370\t722621\t.\t-\t.\tgene_id \"FBgn0085804\"; gene_version \"1\"; transcript_id \"FBtr0114258\"; transcript_version \"1\"; gene_name \"CR41571\"; gene_source \"FlyBase\"; gene_biotype \"pseudogene\"; transcript_name \"CR41571-RA\"; transcript_source \"FlyBase\"; transcript_biotype \"pseudogene\";\n",
      "\n",
      "3R\tFlyBase\texon\t722370\t722621\t.\t-\t.\tgene_id \"FBgn0085804\"; gene_version \"1\"; transcript_id \"FBtr0114258\"; transcript_version \"1\"; exon_number \"1\"; gene_name \"CR41571\"; gene_source \"FlyBase\"; gene_biotype \"pseudogene\"; transcript_name \"CR41571-RA\"; transcript_source \"FlyBase\"; transcript_biotype \"pseudogene\"; exon_id \"FBtr0114258-E1\"; exon_version \"1\";\n",
      "\n",
      "3R\tFlyBase\tgene\t835381\t2503907\t.\t+\t.\tgene_id \"FBgn0267431\"; gene_version \"1\"; gene_name \"CG45784\"; gene_source \"FlyBase\"; gene_biotype \"protein_coding\";\n",
      "\n",
      "3R\tFlyBase\ttranscript\t835381\t2503907\t.\t+\t.\tgene_id \"FBgn0267431\"; gene_version \"1\"; transcript_id \"FBtr0346770\"; transcript_version \"1\"; gene_name \"CG45784\"; gene_source \"FlyBase\"; gene_biotype \"protein_coding\"; transcript_name \"CG45784-RA\"; transcript_source \"FlyBase\"; transcript_biotype \"protein_coding\";\n",
      "\n"
     ]
    }
   ],
   "source": [
    "count=0 \n",
    "\n",
    "for i in fs: \n",
    "    if i.count(\"#!\")==1:\n",
    "        continue\n",
    "    elif count<5:\n",
    "        count +=1\n",
    "        print(i)\n",
    "        continue\n",
    "    else:\n",
    "        break\n",
    "        \n"
   ]
  },
  {
   "cell_type": "code",
   "execution_count": 3,
   "metadata": {},
   "outputs": [],
   "source": [
    "seq_qlist=[]\n",
    "\n",
    "fs=open(\"/Users/cmdb/qbb2020-answers/day4-lunch/BDGP6.Ensembl.81.gtf\")\n",
    "\n",
    "for i in fs: \n",
    "    if \"#!\" in i: \n",
    "        continue\n",
    "    if \"3R\"+\"\\t\" in i:\n",
    "        if \"protein_coding\" in i:\n",
    "            values= i.split()\n",
    "            seq_qlist.append([int(values[3]), int(values[4]), values[13]])\n",
    "        else:\n",
    "            continue\n",
    "    else: \n",
    "        continue\n",
    "        "
   ]
  },
  {
   "cell_type": "code",
   "execution_count": 4,
   "metadata": {},
   "outputs": [
    {
     "data": {
      "text/plain": [
       "[835381, 2503907, '\"CG45784\";']"
      ]
     },
     "execution_count": 4,
     "metadata": {},
     "output_type": "execute_result"
    }
   ],
   "source": [
    "seq_qlist[0]"
   ]
  },
  {
   "cell_type": "code",
   "execution_count": 5,
   "metadata": {},
   "outputs": [
    {
     "name": "stdout",
     "output_type": "stream",
     "text": [
      "[32067997, 32068441, '\"FBtr0085875\";']\n",
      "Distance to gene 181310509 bp\n",
      "The while loop ran 17 times\n"
     ]
    }
   ],
   "source": [
    "lowest=0 \n",
    "highest= len(seq_qlist)-1\n",
    "middle = (highest)//2\n",
    "\n",
    "target= 213378950\n",
    "\n",
    "counter=0\n",
    "\n",
    "\n",
    "while True: \n",
    "    if highest==lowest +1:\n",
    "        low_value=abs(seq_qlist[lowest][1]-target)\n",
    "        high_value=abs(seq_qlist[highest][0]-target)\n",
    "        if high_value<low_value:\n",
    "            print(seq_qlist[highest])\n",
    "            print('Distance to gene', high_value, 'bp')\n",
    "        if low_value <high_value:\n",
    "            print(seq_qlist[lowest])\n",
    "            print('Distance to gene', low_value, 'bp')\n",
    "        break \n",
    "        \n",
    "    elif target< seq_qlist[middle][0]:\n",
    "        highest=middle\n",
    "        middle=(highest+lowest)//2\n",
    "    elif target> seq_qlist[middle][1]:\n",
    "        lowest=middle\n",
    "        middle=(highest+lowest)//2\n",
    "    else: \n",
    "        print(seq_qlist[middle])\n",
    "        break\n",
    "    counter += 1\n",
    "\n",
    "print('The while loop ran {} times'.format(counter))"
   ]
  },
  {
   "cell_type": "code",
   "execution_count": null,
   "metadata": {},
   "outputs": [],
   "source": []
  },
  {
   "cell_type": "code",
   "execution_count": null,
   "metadata": {},
   "outputs": [],
   "source": []
  },
  {
   "cell_type": "code",
   "execution_count": null,
   "metadata": {},
   "outputs": [],
   "source": []
  },
  {
   "cell_type": "code",
   "execution_count": null,
   "metadata": {},
   "outputs": [],
   "source": []
  }
 ],
 "metadata": {
  "kernelspec": {
   "display_name": "Python 3",
   "language": "python",
   "name": "python3"
  },
  "language_info": {
   "codemirror_mode": {
    "name": "ipython",
    "version": 3
   },
   "file_extension": ".py",
   "mimetype": "text/x-python",
   "name": "python",
   "nbconvert_exporter": "python",
   "pygments_lexer": "ipython3",
   "version": "3.6.10"
  }
 },
 "nbformat": 4,
 "nbformat_minor": 4
}
