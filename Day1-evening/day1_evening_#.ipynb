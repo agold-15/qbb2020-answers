{
 "cells": [
  {
   "cell_type": "markdown",
   "metadata": {},
   "source": [
    "# number of alignments"
   ]
  },
  {
   "cell_type": "code",
   "execution_count": 15,
   "metadata": {},
   "outputs": [],
   "source": [
    "#load packages \n",
    "import numpy as np"
   ]
  },
  {
   "cell_type": "code",
   "execution_count": 2,
   "metadata": {},
   "outputs": [],
   "source": [
    "#loaded SAM file and debug on command line\n",
    "#read debugged file into jupyter notebook \n",
    "\n",
    "fs=open('/Users/cmdb/qbb2020-answers/Day1-evening/SRR072893.sam', 'r')"
   ]
  },
  {
   "cell_type": "code",
   "execution_count": 3,
   "metadata": {},
   "outputs": [
    {
     "name": "stdout",
     "output_type": "stream",
     "text": [
      "2000000\n"
     ]
    }
   ],
   "source": [
    "#count the number of alignments, each line in the file is an alignment \n",
    "samlines=(fs.readlines())\n",
    "count=len(samlines)\n",
    "print(count)\n",
    "#close file \n",
    "fs.close()"
   ]
  },
  {
   "cell_type": "markdown",
   "metadata": {},
   "source": [
    "# number of perfect alignments"
   ]
  },
  {
   "cell_type": "code",
   "execution_count": 4,
   "metadata": {},
   "outputs": [
    {
     "name": "stdout",
     "output_type": "stream",
     "text": [
      "1702765\n"
     ]
    }
   ],
   "source": [
    "#open file\n",
    "fs=open('/Users/cmdb/qbb2020-answers/Day1-evening/SRR072893.sam', 'r')\n",
    "#create counter \n",
    "counter=0 \n",
    "nm=\"NM:i:0\"\n",
    "#create for loop \n",
    "for alignment in samlines:\n",
    "    #create conditional to count \n",
    "    if nm in alignment:\n",
    "        counter=counter +1\n",
    "print(counter)\n",
    "#close file\n",
    "fs.close()"
   ]
  },
  {
   "cell_type": "markdown",
   "metadata": {},
   "source": [
    "# chromosome in first 10 alignments "
   ]
  },
  {
   "cell_type": "code",
   "execution_count": 5,
   "metadata": {},
   "outputs": [
    {
     "name": "stdout",
     "output_type": "stream",
     "text": [
      "['2L', '2L', '2L', '2L', '2L', '2L', '2L', '2L', '2L', '2L']\n"
     ]
    }
   ],
   "source": [
    "#open file\n",
    "fs=open('/Users/cmdb/qbb2020-answers/Day1-evening/SRR072893.sam', 'r')\n",
    "#create an empty list \n",
    "chromosome=[]\n",
    "#make for loop to read first 10 lines \n",
    "for i in range(0,10):\n",
    "    lines=fs.readline()\n",
    "    #split the file to create a list of strings \n",
    "    new_list=lines.split()\n",
    "    #store new list of strings in empty list 'chromosome'\n",
    "    chromosome.append(new_list[2])\n",
    "    \n",
    "print(chromosome)\n",
    "#close file\n",
    "fs.close()"
   ]
  },
  {
   "cell_type": "markdown",
   "metadata": {},
   "source": [
    "# calculate average MAPQ score"
   ]
  },
  {
   "cell_type": "code",
   "execution_count": 7,
   "metadata": {},
   "outputs": [
    {
     "name": "stdout",
     "output_type": "stream",
     "text": [
      "59.6407825\n"
     ]
    }
   ],
   "source": [
    "#open file\n",
    "fs=open('/Users/cmdb/qbb2020-answers/Day1-evening/SRR072893.sam', 'r')\n",
    "\n",
    "#create variables\n",
    "counter=0\n",
    "mapq=0\n",
    "MAPQ_scores=[]\n",
    "\n",
    "#make for loop to read first 10 lines \n",
    "for line in fs:\n",
    "    #split the file to create a list of strings \n",
    "    MAPQ_scores=line.split()\n",
    "    #convert list of strings in the 4th index, into integers and define as mapq variable \n",
    "    mapq+= int(MAPQ_scores[4])\n",
    "    counter+=1\n",
    "    #store new list of strings in empty list 'chromosome'\n",
    "print(mapq/counter)\n",
    "#close file\n",
    "fs.close()"
   ]
  },
  {
   "cell_type": "markdown",
   "metadata": {},
   "source": [
    "# number of reads on 2L between 10,000 and 20,000"
   ]
  },
  {
   "cell_type": "code",
   "execution_count": 14,
   "metadata": {},
   "outputs": [
    {
     "name": "stdout",
     "output_type": "stream",
     "text": [
      "7550\n"
     ]
    }
   ],
   "source": [
    "#open file\n",
    "fs=open('/Users/cmdb/qbb2020-answers/Day1-evening/SRR072893.sam', 'r')\n",
    "\n",
    "#create variables\n",
    "counter=0\n",
    "lines=[]\n",
    "\n",
    "#make for loop to read first 10 lines \n",
    "for line in fs:\n",
    "    #split the file to create a list of strings \n",
    "    lines=line.split()\n",
    "    #create variable with all chromosome values\n",
    "    chrom= lines[2]\n",
    "    #create variable with all start values \n",
    "    start=int(lines[3])\n",
    "    #conditional to count lines with appropriate start locus and chromosome \n",
    "    if chrom==\"2L\"and start>= 10000 and start<= 20000:\n",
    "         counter+=1\n",
    "            \n",
    "print(counter)\n",
    "#close file\n",
    "fs.close()"
   ]
  }
 ],
 "metadata": {
  "kernelspec": {
   "display_name": "Python 3",
   "language": "python",
   "name": "python3"
  },
  "language_info": {
   "codemirror_mode": {
    "name": "ipython",
    "version": 3
   },
   "file_extension": ".py",
   "mimetype": "text/x-python",
   "name": "python",
   "nbconvert_exporter": "python",
   "pygments_lexer": "ipython3",
   "version": "3.6.10"
  }
 },
 "nbformat": 4,
 "nbformat_minor": 4
}
