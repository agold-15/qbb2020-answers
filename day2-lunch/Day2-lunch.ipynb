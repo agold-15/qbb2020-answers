{
 "cells": [
  {
   "cell_type": "markdown",
   "metadata": {},
   "source": [
    "# question1"
   ]
  },
  {
   "cell_type": "code",
   "execution_count": 1,
   "metadata": {},
   "outputs": [],
   "source": [
    "#loadfile\n",
    "fs=open('fly.txt','r')\n",
    "\n",
    "#create dictionary for output \n",
    "field_dictionary={}\n",
    "\n",
    "#create loop to strip and split string into a list \n",
    "for lines in fs:\n",
    "    fields=lines.rstrip().split()\n",
    "    \n",
    "    #make conditional to print all with DROME \n",
    "    if 'DROME'in lines:\n",
    "        flybase=fields[-1]\n",
    "        ac=fields[-2]\n",
    "        \n",
    "        #add output to dictionary\n",
    "        #first column= flybase ID\n",
    "        #second column= AC (uniprotID)\n",
    "        field_dictionary[flybase]=ac\n",
    "        \n",
    "fs.close()"
   ]
  },
  {
   "cell_type": "markdown",
   "metadata": {},
   "source": [
    "# question2"
   ]
  },
  {
   "cell_type": "code",
   "execution_count": 2,
   "metadata": {},
   "outputs": [],
   "source": [
    "#define function\n",
    "# print line from c_tab file and replace the geneID with the uniprot id (ac) from field_dic we made in question1 \n",
    "#if gene name is a key in the dictionary\n",
    "    #find the value that matches the key\n",
    "    #replace gene_name with the value that matches the key\n",
    "    "
   ]
  },
  {
   "cell_type": "code",
   "execution_count": 3,
   "metadata": {},
   "outputs": [],
   "source": [
    "#define function IDMapping \n",
    "def IDMapping(field_dictionary, c_tab, test=('SKIP'+'\\n')):\n",
    "    \n",
    "    #open input files, and output file, and define columns of output.txt\n",
    "    c_tab= open(\"/Users/cmdb/qbb2020-answers/day2-lunch/t_data.ctab\", 'r')\n",
    "    output= open(\"/Users/cmdb/qbb2020-answers/day2-lunch/output\", 'w')\n",
    "    output.write('t_id'+'\\t'+'chr'+'\\t'+'strand'+'\\t'+ 'start'+'\\t'+ 'end'+'\\t'+'num_exons'+'\\t'+'length'+'\\t'+'Uniprot_ID'+'\\t'+'Gene_name')\n",
    "    \n",
    "    #create counter because we need only the first 100 lines \n",
    "    counter=0\n",
    "\n",
    "    #make for loop\n",
    "    #for the first 100 lines in c_tab, we want to split them, and see if their flybase ID is in our dictionary from question 1. We can then replace the flybase ID with the uniprot ID \n",
    "    \n",
    "    for line in c_tab: \n",
    "        if counter<= 100:\n",
    "            line_split= line.split()\n",
    "            ctab_flybaseID=line_split[-4]\n",
    "            if ctab_flybaseID in field_dictionary:\n",
    "                line_split[-4]=field_dictionary[ctab_flybaseID]\n",
    "                #write output of the loop to txt file \n",
    "                output.write('\\t'.join(line_split)+'\\n')\n",
    "                counter+=1\n",
    "            #create other output for files that do not have a Flybase ID that is in the dictionary, should print out SKIP as written in the function. \n",
    "            else: \n",
    "                output.write(test)\n",
    "            \n",
    "\n",
    "            \n",
    "        "
   ]
  },
  {
   "cell_type": "code",
   "execution_count": null,
   "metadata": {},
   "outputs": [],
   "source": []
  },
  {
   "cell_type": "code",
   "execution_count": null,
   "metadata": {},
   "outputs": [],
   "source": []
  },
  {
   "cell_type": "code",
   "execution_count": null,
   "metadata": {},
   "outputs": [],
   "source": []
  },
  {
   "cell_type": "code",
   "execution_count": null,
   "metadata": {},
   "outputs": [],
   "source": []
  },
  {
   "cell_type": "code",
   "execution_count": null,
   "metadata": {},
   "outputs": [],
   "source": []
  }
 ],
 "metadata": {
  "kernelspec": {
   "display_name": "Python 3",
   "language": "python",
   "name": "python3"
  },
  "language_info": {
   "codemirror_mode": {
    "name": "ipython",
    "version": 3
   },
   "file_extension": ".py",
   "mimetype": "text/x-python",
   "name": "python",
   "nbconvert_exporter": "python",
   "pygments_lexer": "ipython3",
   "version": "3.6.10"
  }
 },
 "nbformat": 4,
 "nbformat_minor": 4
}
