{
 "cells": [
  {
   "cell_type": "markdown",
   "metadata": {},
   "source": [
    "# convert KRONA files for part 1"
   ]
  },
  {
   "cell_type": "code",
   "execution_count": 1,
   "metadata": {},
   "outputs": [],
   "source": [
    "import os\n",
    "directory= 'KRAKEN/'\n",
    "output=open('outputfile','w')\n",
    "for filename in os.listdir(directory):\n",
    "        sample_name=filename[0:9]\n",
    "        #print(sample_name)\n",
    "        output=open(sample_name,'w')"
   ]
  },
  {
   "cell_type": "code",
   "execution_count": 2,
   "metadata": {},
   "outputs": [],
   "source": [
    "def converttostr(input_seq, seperator):\n",
    "   # Join all the strings in list\n",
    "   final_str = seperator.join(input_seq)\n",
    "   return final_str"
   ]
  },
  {
   "cell_type": "code",
   "execution_count": 3,
   "metadata": {},
   "outputs": [],
   "source": [
    "SRR492183= open('/Users/cmdb/qbb2020-answers/week_13_homework/week13_data/KRAKEN/SRR492183.kraken')\n",
    "SRR83=open('/Users/cmdb/qbb2020-answers/week_13_homework/week13_data/SRR492183', 'w')\n",
    "for i in SRR492183:\n",
    "    split=i.split('\\t')\n",
    "    split2=split[1].split(';')\n",
    "    separator='\\t'\n",
    "    string=str(converttostr(split2, separator))\n",
    "    #print(listToString(split2))\n",
    "    SRR83.write(string)\n",
    "    SRR83.write('\\n')"
   ]
  },
  {
   "cell_type": "code",
   "execution_count": 4,
   "metadata": {},
   "outputs": [],
   "source": [
    "SRR492186= open('/Users/cmdb/qbb2020-answers/week_13_homework/week13_data/KRAKEN/SRR492186.kraken')\n",
    "SRR86=open('/Users/cmdb/qbb2020-answers/week_13_homework/week13_data/SRR492186', 'w')\n",
    "for i in SRR492186:\n",
    "    split=i.split('\\t')\n",
    "    split2=split[1].split(';')\n",
    "    separator='\\t'\n",
    "    string=str(converttostr(split2, separator))\n",
    "    #print(listToString(split2))\n",
    "    SRR86.write(string)\n",
    "    SRR86.write('\\n')"
   ]
  },
  {
   "cell_type": "code",
   "execution_count": 5,
   "metadata": {},
   "outputs": [],
   "source": [
    "SRR492188= open('/Users/cmdb/qbb2020-answers/week_13_homework/week13_data/KRAKEN/SRR492188.kraken')\n",
    "SRR88=open('/Users/cmdb/qbb2020-answers/week_13_homework/week13_data/SRR492188', 'w')\n",
    "for i in SRR492188:\n",
    "    split=i.split('\\t')\n",
    "    split2=split[1].split(';')\n",
    "    separator='\\t'\n",
    "    string=str(converttostr(split2, separator))\n",
    "    #print(listToString(split2))\n",
    "    SRR88.write(string)\n",
    "    SRR88.write('\\n')"
   ]
  },
  {
   "cell_type": "code",
   "execution_count": 6,
   "metadata": {},
   "outputs": [],
   "source": [
    "SRR492189= open('/Users/cmdb/qbb2020-answers/week_13_homework/week13_data/KRAKEN/SRR492189.kraken')\n",
    "SRR89=open('/Users/cmdb/qbb2020-answers/week_13_homework/week13_data/SRR492189', 'w')\n",
    "for i in SRR492189:\n",
    "    split=i.split('\\t')\n",
    "    split2=split[1].split(';')\n",
    "    separator='\\t'\n",
    "    string=str(converttostr(split2, separator))\n",
    "    #print(listToString(split2))\n",
    "    SRR89.write(string)\n",
    "    SRR89.write('\\n')"
   ]
  },
  {
   "cell_type": "code",
   "execution_count": 7,
   "metadata": {},
   "outputs": [],
   "source": [
    "SRR492190= open('/Users/cmdb/qbb2020-answers/week_13_homework/week13_data/KRAKEN/SRR492190.kraken')\n",
    "SRR90=open('/Users/cmdb/qbb2020-answers/week_13_homework/week13_data/SRR492190', 'w')\n",
    "for i in SRR492190:\n",
    "    split=i.split('\\t')\n",
    "    split2=split[1].split(';')\n",
    "    separator='\\t'\n",
    "    string=str(converttostr(split2, separator))\n",
    "    #print(listToString(split2))\n",
    "    SRR90.write(string)\n",
    "    SRR90.write('\\n')"
   ]
  },
  {
   "cell_type": "code",
   "execution_count": 8,
   "metadata": {},
   "outputs": [],
   "source": [
    "SRR492193= open('/Users/cmdb/qbb2020-answers/week_13_homework/week13_data/KRAKEN/SRR492193.kraken')\n",
    "SRR93=open('/Users/cmdb/qbb2020-answers/week_13_homework/week13_data/SRR492193', 'w')\n",
    "for i in SRR492193:\n",
    "    split=i.split('\\t')\n",
    "    split2=split[1].split(';')\n",
    "    separator='\\t'\n",
    "    string=str(converttostr(split2, separator))\n",
    "    #print(listToString(split2))\n",
    "    SRR93.write(string)\n",
    "    SRR93.write('\\n')"
   ]
  },
  {
   "cell_type": "code",
   "execution_count": 9,
   "metadata": {},
   "outputs": [],
   "source": [
    "SRR492194= open('/Users/cmdb/qbb2020-answers/week_13_homework/week13_data/KRAKEN/SRR492194.kraken')\n",
    "SRR94=open('/Users/cmdb/qbb2020-answers/week_13_homework/week13_data/SRR492190', 'w')\n",
    "for i in SRR492194:\n",
    "    split=i.split('\\t')\n",
    "    split2=split[1].split(';')\n",
    "    separator='\\t'\n",
    "    string=str(converttostr(split2, separator))\n",
    "    #print(listToString(split2))\n",
    "    SRR94.write(string)\n",
    "    SRR94.write('\\n')"
   ]
  },
  {
   "cell_type": "code",
   "execution_count": 10,
   "metadata": {},
   "outputs": [],
   "source": [
    "SRR492197= open('/Users/cmdb/qbb2020-answers/week_13_homework/week13_data/KRAKEN/SRR492197.kraken')\n",
    "SRR97=open('/Users/cmdb/qbb2020-answers/week_13_homework/week13_data/SRR492197', 'w')\n",
    "for i in SRR492197:\n",
    "    split=i.split('\\t')\n",
    "    split2=split[1].split(';')\n",
    "    separator='\\t'\n",
    "    string=str(converttostr(split2, separator))\n",
    "    #print(listToString(split2))\n",
    "    SRR97.write(string)\n",
    "    SRR97.write('\\n')"
   ]
  },
  {
   "cell_type": "markdown",
   "metadata": {},
   "source": [
    "# part 3 and 4 of homework"
   ]
  },
  {
   "cell_type": "code",
   "execution_count": 1,
   "metadata": {},
   "outputs": [],
   "source": [
    "bin3= open('bins/bin8')\n",
    "assembly= open('KRAKEN/assembly.kraken')"
   ]
  },
  {
   "cell_type": "code",
   "execution_count": 2,
   "metadata": {},
   "outputs": [],
   "source": [
    "assembly_list=[]\n",
    "for i in assembly:\n",
    "    split=i.split('\\t')\n",
    "    assembly_list.append(split)\n",
    "    \n",
    "assembly_dict=dict(assembly_list)"
   ]
  },
  {
   "cell_type": "code",
   "execution_count": 3,
   "metadata": {},
   "outputs": [
    {
     "name": "stdout",
     "output_type": "stream",
     "text": [
      "['NODE_3_length_498518_cov_181.760000\\n', 'NODE_5_length_427301_cov_143.861656\\n', 'NODE_15_length_235270_cov_153.562668\\n', 'NODE_19_length_199764_cov_200.017410\\n', 'NODE_31_length_114355_cov_167.687393\\n', 'NODE_48_length_91091_cov_192.361330\\n', 'NODE_90_length_68573_cov_147.031802\\n', 'NODE_396_length_21162_cov_170.926423\\n']\n"
     ]
    }
   ],
   "source": [
    "bin1_list=[]\n",
    "for i in bin3: \n",
    "    split=i.split('>')\n",
    "    bin1_list.append(split[1])\n",
    "    \n",
    "print(bin1_list)\n",
    "    \n",
    "#for key, value in assembly_dict.items():\n",
    "  #  fo"
   ]
  },
  {
   "cell_type": "code",
   "execution_count": 4,
   "metadata": {},
   "outputs": [
    {
     "name": "stdout",
     "output_type": "stream",
     "text": [
      "root;cellular organisms;Bacteria;Terrabacteria group;Firmicutes;Tissierellia;Tissierellales;Peptoniphilaceae;Anaerococcus;Anaerococcus prevotii;Anaerococcus prevotii DSM 20548\n",
      "\n",
      "root;cellular organisms;Bacteria;Terrabacteria group;Firmicutes;Tissierellia;Tissierellales;Peptoniphilaceae;Finegoldia;Finegoldia magna;Finegoldia magna ATCC 29328\n",
      "\n",
      "root;cellular organisms;Bacteria;Terrabacteria group;Firmicutes;Bacilli;Lactobacillales;Streptococcaceae;Streptococcus;Streptococcus anginosus group;Streptococcus anginosus;Streptococcus anginosus C238\n",
      "\n",
      "root;cellular organisms;Bacteria;Terrabacteria group;Firmicutes;Tissierellia;Tissierellales;Peptoniphilaceae;Finegoldia;Finegoldia magna;Finegoldia magna ATCC 29328\n",
      "\n",
      "root;cellular organisms;Bacteria;Terrabacteria group;Firmicutes;Tissierellia;Tissierellales;Peptoniphilaceae;Anaerococcus;Anaerococcus prevotii;Anaerococcus prevotii DSM 20548\n",
      "\n",
      "root;cellular organisms;Bacteria;Terrabacteria group;Firmicutes;Tissierellia;Tissierellales;Peptoniphilaceae;Anaerococcus;Anaerococcus prevotii;Anaerococcus prevotii DSM 20548\n",
      "\n",
      "root;cellular organisms;Bacteria;Terrabacteria group;Firmicutes;Clostridia;Clostridiales;Clostridiaceae;Clostridium\n",
      "\n",
      "root;cellular organisms;Bacteria;Terrabacteria group;Firmicutes;Clostridia;Clostridiales;Clostridiaceae;Clostridium;Clostridium novyi;Clostridium novyi NT\n",
      "\n"
     ]
    }
   ],
   "source": [
    "for key, value in assembly_dict.items():\n",
    "    for i in bin1_list:\n",
    "        if key in i:\n",
    "            print(value)"
   ]
  },
  {
   "cell_type": "markdown",
   "metadata": {},
   "source": [
    "# heatmap "
   ]
  },
  {
   "cell_type": "code",
   "execution_count": 46,
   "metadata": {},
   "outputs": [
    {
     "data": {
      "image/png": "[encoded data removed]",
      "text/plain": [
       "<Figure size 432x288 with 2 Axes>"
      ]
     },
     "metadata": {
      "needs_background": "light"
     },
     "output_type": "display_data"
    }
   ],
   "source": [
    "import numpy as np\n",
    "import seaborn as sns\n",
    "import pandas as pd\n",
    "\n",
    "data= pd.read_table('/Users/cmdb/qbb2020-answers/week_13_homework/week13_data/abundance_table.tab')\n",
    "data2= data.set_index('Genomic bins')\n",
    "data3= data2.transpose()\n",
    "#labels={'bin.1':'Staphylococcus haemolyticus', 'bin.2':'Leuconostoc citreum','bin.3':'Staphylococcus lugdunensis ', 'bin.4':'Enterococcus faecalis', 'bin.5':'Cutibacterium avidum', 'bin.6':'Staphylococcus epidermidis', 'bin.7':'Staphylococcus aureus', 'bin.8':'Anaerococcus prevotii'}\n",
    "labeled=data3.rename(columns={'bin.1':'Staphylococcus haemolyticus', 'bin.2':'Leuconostoc citreum','bin.3':'Staphylococcus lugdunensis ', 'bin.4':'Enterococcus faecalis', 'bin.5':'Cutibacterium avidum', 'bin.6':'Staphylococcus epidermidis', 'bin.7':'Staphylococcus aureus', 'bin.8':'Anaerococcus prevotii'}\n",
    ")\n",
    "\n",
    "ax = sns.heatmap(labeled)"
   ]
  },
  {
   "cell_type": "code",
   "execution_count": null,
   "metadata": {},
   "outputs": [],
   "source": []
  }
 ],
 "metadata": {
  "kernelspec": {
   "display_name": "Python 3",
   "language": "python",
   "name": "python3"
  },
  "language_info": {
   "codemirror_mode": {
    "name": "ipython",
    "version": 3
   },
   "file_extension": ".py",
   "mimetype": "text/x-python",
   "name": "python",
   "nbconvert_exporter": "python",
   "pygments_lexer": "ipython3",
   "version": "3.6.10"
  }
 },
 "nbformat": 4,
 "nbformat_minor": 4
}
